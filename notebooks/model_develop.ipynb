{
 "cells": [
  {
   "cell_type": "markdown",
   "id": "0e8c8b0a",
   "metadata": {},
   "source": [
    "Pre-Procesamiento de Imagenes:\n",
    "\n",
    "Se importan librerías para remover los fondos de las imágenes, así como la redimensión de las mismas y colocar las imágenes en blanco y negro para su posterior normalización y etiquetado.\n",
    "\n",
    "Se recorre la carpeta de Raw que contiene los datos crudos de las imágenes hasta recorrer las tres carpetas correspondientes (rock, paper,scissors). Primero remueve el fondo de la imagen, luego la convierte en escala de grises, la redimensiona a 30x20 px y finalmente guarda el resultado en la carpeta correspondiente, cambiando el nombre a processed_XXX (donde XXX es el nombre original del archivo)."
   ]
  },
  {
   "cell_type": "code",
   "execution_count": null,
   "id": "42f24678",
   "metadata": {},
   "outputs": [],
   "source": [
    "import os\n",
    "from PIL import Image\n",
    "from rembg import remove\n",
    "\n",
    "# Ruta a la carpeta data/raw\n",
    "raw_folder = \"../data/raw\"\n",
    "\n",
    "# Recorre cada subcarpeta dentro de data/raw\n",
    "for subfolder in os.listdir(raw_folder):\n",
    "    subfolder_path = os.path.join(raw_folder, subfolder)\n",
    "    \n",
    "    # Verifica si es una carpeta\n",
    "    if os.path.isdir(subfolder_path):\n",
    "        print(f\"Procesando carpeta: {subfolder}\")\n",
    "        \n",
    "        # Recorre cada archivo en la subcarpeta\n",
    "        for file_name in os.listdir(subfolder_path):\n",
    "            file_path = os.path.join(subfolder_path, file_name)\n",
    "            \n",
    "            # Verifica si es una imagen\n",
    "            if file_name.lower().endswith(('.png', '.jpg', '.jpeg')):\n",
    "                print(f\"Procesando imagen: {file_name}\")\n",
    "                \n",
    "                # Abre la imagen\n",
    "                with Image.open(file_path) as img:\n",
    "                    # Remueve el fondo\n",
    "                    img_no_bg = remove(img)\n",
    "                    \n",
    "                    # Convierte a escala de grises\n",
    "                    img_gray = img_no_bg.convert(\"L\")\n",
    "                    \n",
    "                    # Redimensiona la imagen\n",
    "                    img_resized = img_gray.resize((30, 20))\n",
    "                    \n",
    "                    # Guarda la imagen procesada\n",
    "                    output_path = os.path.join(subfolder_path, f\"processed_{file_name}\")\n",
    "                    img_resized.save(output_path)\n",
    "                    print(f\"Imagen procesada guardada en: {output_path}\")\n",
    "\n"
   ]
  },
  {
   "cell_type": "markdown",
   "id": "bd78191b",
   "metadata": {},
   "source": [
    "\n",
    "Normalización de los datos"
   ]
  },
  {
   "cell_type": "code",
   "execution_count": null,
   "id": "c297943c",
   "metadata": {},
   "outputs": [],
   "source": [
    "import os\n",
    "import numpy as np\n",
    "from PIL import Image\n",
    "from tqdm import tqdm\n",
    "from concurrent.futures import ThreadPoolExecutor\n",
    "import time  # Para medir el tiempo de ejecución\n",
    "\n",
    "# Función para normalizar un lote de imágenes\n",
    "def normalize_images(batch):\n",
    "    for file_path in batch:\n",
    "        try:\n",
    "            # Abre la imagen\n",
    "            with Image.open(file_path) as img:\n",
    "                # Convierte la imagen a un array numpy y normaliza\n",
    "                img_array = np.array(img) / 255.0\n",
    "                \n",
    "                # Convierte de nuevo a imagen y guarda\n",
    "                normalized_img = Image.fromarray((img_array * 255).astype(np.uint8))\n",
    "                normalized_img.save(file_path)\n",
    "        except Exception as e:\n",
    "            print(f\"Error procesando {file_path}: {e}\")\n",
    "\n",
    "# Función para dividir una lista en lotes\n",
    "def split_into_batches(file_list, batch_size):\n",
    "    for i in range(0, len(file_list), batch_size):\n",
    "        yield file_list[i:i + batch_size]\n",
    "\n",
    "# Función para procesar una carpeta\n",
    "def process_folder(subfolder):\n",
    "    subfolder_path = os.path.join(processed_folder, subfolder)\n",
    "    \n",
    "    # Verifica si es una carpeta\n",
    "    if os.path.isdir(subfolder_path):\n",
    "        print(f\"Procesando carpeta: {subfolder}\")\n",
    "        \n",
    "        # Lista de imágenes en la carpeta\n",
    "        file_list = [\n",
    "            os.path.join(subfolder_path, file_name)\n",
    "            for file_name in os.listdir(subfolder_path)\n",
    "            if file_name.lower().endswith(('.png', '.jpg', '.jpeg'))\n",
    "        ]\n",
    "        \n",
    "        # Divide las imágenes en lotes de 100\n",
    "        batches = list(split_into_batches(file_list, 100))\n",
    "        \n",
    "        # Normaliza cada lote\n",
    "        for batch in tqdm(batches, desc=f\"Normalizando imágenes en {subfolder}\", unit=\"lote\"):\n",
    "            normalize_images(batch)\n",
    "\n",
    "# Usa ThreadPoolExecutor para procesar varias carpetas al mismo tiempo\n",
    "if __name__ == \"__main__\":\n",
    "    # Ruta a la carpeta data/processed\n",
    "    processed_folder = \"../data/processed\"\n",
    "\n",
    "    # Temporizador para medir el tiempo de ejecución\n",
    "    start_time = time.time()\n",
    "\n",
    "    # Lista de subcarpetas en data/processed\n",
    "    subfolders = [subfolder for subfolder in os.listdir(processed_folder) if os.path.isdir(os.path.join(processed_folder, subfolder))]\n",
    "    print(f\"Inicialización completada en {time.time() - start_time:.2f} segundos\")\n",
    "\n",
    "    # Usa ThreadPoolExecutor para procesar carpetas en paralelo\n",
    "    with ThreadPoolExecutor(max_workers=3) as executor:  # Cambia max_workers según el número de hilos que quieras usar\n",
    "        list(tqdm(executor.map(process_folder, subfolders), total=len(subfolders), desc=\"Procesando carpetas\"))\n",
    "\n",
    "    print(f\"Todas las carpetas procesadas en {time.time() - start_time:.2f} segundos\")"
   ]
  },
  {
   "cell_type": "markdown",
   "id": "492289aa",
   "metadata": {},
   "source": [
    "División y Etiquetado de Imágenes en Conjuntos de Entrenamiento y Testeo"
   ]
  },
  {
   "cell_type": "code",
   "execution_count": 33,
   "id": "4a52054d",
   "metadata": {},
   "outputs": [
    {
     "data": {
      "application/vnd.jupyter.widget-view+json": {
       "model_id": "0fe898351eff4da1a6ef9dd640deda79",
       "version_major": 2,
       "version_minor": 0
      },
      "text/plain": [
       "Procesando subcarpetas:   0%|          | 0/3 [00:00<?, ?it/s]"
      ]
     },
     "metadata": {},
     "output_type": "display_data"
    },
    {
     "data": {
      "application/vnd.jupyter.widget-view+json": {
       "model_id": "c2cb197b42994535ac12d8335a7d18e9",
       "version_major": 2,
       "version_minor": 0
      },
      "text/plain": [
       "Procesando ../data/training:   0%|          | 0/1531 [00:00<?, ?it/s]"
      ]
     },
     "metadata": {},
     "output_type": "display_data"
    },
    {
     "data": {
      "application/vnd.jupyter.widget-view+json": {
       "model_id": "24af26f8a0c840029e6164d27aa77564",
       "version_major": 2,
       "version_minor": 0
      },
      "text/plain": [
       "Procesando ../data/test:   0%|          | 0/657 [00:00<?, ?it/s]"
      ]
     },
     "metadata": {},
     "output_type": "display_data"
    },
    {
     "name": "stdout",
     "output_type": "stream",
     "text": [
      "Conjunto de entrenamiento guardado en: ../data/training_labels.csv\n",
      "Conjunto de testeo guardado en: ../data/test_labels.csv\n"
     ]
    }
   ],
   "source": [
    "import os\n",
    "import shutil\n",
    "import pandas as pd\n",
    "from sklearn.model_selection import train_test_split\n",
    "from tqdm.notebook import tqdm\n",
    "\n",
    "def dividir_y_etiquetar(processed_folder, train_folder, test_folder, train_csv_path, test_csv_path, test_size=0.3):\n",
    "    \"\"\"\n",
    "    Divide las imágenes directamente desde las carpetas de processed en entrenamiento y testeo,\n",
    "    las mueve a sus respectivas carpetas y genera los CSVs correspondientes.\n",
    "    \"\"\"\n",
    "    # Diccionario para almacenar rutas y etiquetas\n",
    "    data = []\n",
    "\n",
    "    # Recorre cada subcarpeta dentro de processed_folder\n",
    "    label_map = {\"rock\": 0, \"paper\": 1, \"scissors\": 2}\n",
    "    subfolders = [subfolder for subfolder in os.listdir(processed_folder) if os.path.isdir(os.path.join(processed_folder, subfolder))]\n",
    "    for subfolder in tqdm(subfolders, desc=\"Procesando subcarpetas\"):\n",
    "        subfolder_path = os.path.join(processed_folder, subfolder)\n",
    "        label = label_map.get(subfolder.lower(), -1)\n",
    "        if label == -1:\n",
    "            print(f\"Carpeta desconocida: {subfolder}. Ignorando...\")\n",
    "            continue\n",
    "\n",
    "        # Recorre cada archivo en la subcarpeta\n",
    "        file_list = [os.path.join(subfolder_path, file_name) for file_name in os.listdir(subfolder_path) if file_name.lower().endswith(('.png', '.jpg', '.jpeg'))]\n",
    "        for file_path in file_list:\n",
    "            data.append({\"path\": file_path, \"label\": label})\n",
    "\n",
    "    # Convierte los datos a un DataFrame\n",
    "    df = pd.DataFrame(data)\n",
    "\n",
    "    # Divide los datos en entrenamiento y testeo\n",
    "    train_df, test_df = train_test_split(df, test_size=test_size, random_state=42, stratify=df[\"label\"])\n",
    "\n",
    "    # Crea las carpetas de destino\n",
    "    os.makedirs(train_folder, exist_ok=True)\n",
    "    os.makedirs(test_folder, exist_ok=True)\n",
    "\n",
    "    # Función para mover imágenes y generar rutas relativas\n",
    "    def mover_imagenes_y_generar_csv(df, target_folder, csv_path, base_folder):\n",
    "        registros = []\n",
    "        for _, row in tqdm(df.iterrows(), total=len(df), desc=f\"Procesando {target_folder}\"):\n",
    "            label_folder = os.path.join(target_folder, str(row[\"label\"]))\n",
    "            os.makedirs(label_folder, exist_ok=True)\n",
    "            # Copiar la imagen a la carpeta correspondiente\n",
    "            dest_path = os.path.join(label_folder, os.path.basename(row[\"path\"]))\n",
    "            shutil.copy(row[\"path\"], dest_path)\n",
    "            # Generar ruta relativa con el prefijo ../data/\n",
    "            relative_path = os.path.relpath(dest_path, base_folder)\n",
    "            registros.append({\"path\": f\"../data/{relative_path.replace(os.sep, '/')}\", \"label\": row[\"label\"]})\n",
    "        # Guardar el CSV\n",
    "        pd.DataFrame(registros).to_csv(csv_path, index=False)\n",
    "\n",
    "    # Procesar imágenes de entrenamiento\n",
    "    mover_imagenes_y_generar_csv(train_df, train_folder, train_csv_path, os.path.dirname(train_csv_path))\n",
    "\n",
    "    # Procesar imágenes de testeo\n",
    "    mover_imagenes_y_generar_csv(test_df, test_folder, test_csv_path, os.path.dirname(test_csv_path))\n",
    "\n",
    "    print(f\"Conjunto de entrenamiento guardado en: {train_csv_path}\")\n",
    "    print(f\"Conjunto de testeo guardado en: {test_csv_path}\")\n",
    "\n",
    "\n",
    "# Rutas de las carpetas y archivos\n",
    "processed_folder = \"../data/processed\"\n",
    "train_folder = \"../data/training\"\n",
    "test_folder = \"../data/test\"\n",
    "train_csv_path = \"../data/training_labels.csv\"\n",
    "test_csv_path = \"../data/test_labels.csv\"\n",
    "\n",
    "# Divide y etiqueta directamente\n",
    "dividir_y_etiquetar(processed_folder, train_folder, test_folder, train_csv_path, test_csv_path)"
   ]
  },
  {
   "cell_type": "markdown",
   "id": "ab498374",
   "metadata": {},
   "source": [
    "Muestra de algunos datos de entrenamiento"
   ]
  },
  {
   "cell_type": "code",
   "execution_count": 41,
   "id": "dd9c737e",
   "metadata": {},
   "outputs": [
    {
     "data": {
      "image/png": "[encoded data removed]",
      "text/plain": [
       "<Figure size 1500x500 with 10 Axes>"
      ]
     },
     "metadata": {},
     "output_type": "display_data"
    }
   ],
   "source": [
    "import pandas as pd\n",
    "import matplotlib.pyplot as plt\n",
    "from tensorflow.keras.preprocessing.image import load_img\n",
    "\n",
    "# Ruta al archivo CSV de entrenamiento\n",
    "train_csv_path = \"../data/training_labels.csv\"\n",
    "\n",
    "# Cargar el archivo CSV\n",
    "train_df = pd.read_csv(train_csv_path)\n",
    "\n",
    "# Seleccionar las primeras 10 imágenes del conjunto de entrenamiento\n",
    "sample_images = train_df.head(10)\n",
    "\n",
    "# Crear una figura para mostrar las imágenes\n",
    "plt.figure(figsize=(15, 5))\n",
    "\n",
    "for i, row in enumerate(sample_images.itertuples(), start=1):\n",
    "    # Cargar la imagen desde la ruta\n",
    "    img = load_img(row.path)\n",
    "    \n",
    "    # Mostrar la imagen\n",
    "    plt.subplot(2, 5, i)  # Crear una cuadrícula de 2 filas y 5 columnas\n",
    "    plt.imshow(img, cmap=\"gray\")  # Mostrar en escala de grises si es necesario\n",
    "    plt.title(f\"Label: {row.label}\")\n",
    "    plt.axis(\"off\")  # Ocultar los ejes\n",
    "\n",
    "# Mostrar todas las imágenes\n",
    "plt.tight_layout()\n",
    "plt.show()"
   ]
  },
  {
   "cell_type": "markdown",
   "id": "a62bdde1",
   "metadata": {},
   "source": [
    "Creación del Modelo"
   ]
  },
  {
   "cell_type": "code",
   "execution_count": 36,
   "id": "02d66244",
   "metadata": {},
   "outputs": [
    {
     "name": "stderr",
     "output_type": "stream",
     "text": [
      "c:\\Users\\sebas\\Desktop\\Universidad\\Semestre 2025-25\\IA\\Proyecto 1\\Piedra-Papel-Tijera-IA\\venv\\Lib\\site-packages\\keras\\src\\layers\\convolutional\\base_conv.py:107: UserWarning: Do not pass an `input_shape`/`input_dim` argument to a layer. When using Sequential models, prefer using an `Input(shape)` object as the first layer in the model instead.\n",
      "  super().__init__(activity_regularizer=activity_regularizer, **kwargs)\n"
     ]
    }
   ],
   "source": [
    "#Creacion de modelo de redes neuronales convolucionales\n",
    "import tensorflow as tf\n",
    "\n",
    "\n",
    "model = tf.keras.models.Sequential([\n",
    "    tf.keras.layers.Conv2D(32 , (3,3), input_shape=(20, 30, 1), activation='relu', kernel_regularizer=tf.keras.regularizers.l2(0.01)),\n",
    "    tf.keras.layers.MaxPooling2D(pool_size=(2, 2)),\n",
    "\n",
    "    tf.keras.layers.Conv2D(64, (3, 3), activation='relu', kernel_regularizer=tf.keras.regularizers.l2(0.01)),\n",
    "    tf.keras.layers.MaxPooling2D(pool_size=(2, 2)),\n",
    "\n",
    "    tf.keras.layers.Dropout(0.3),\n",
    "    tf.keras.layers.Flatten(),\n",
    "\n",
    "    tf.keras.layers.Dense(50, activation='relu'),\n",
    "    # tf.keras.layers.Dropout(0.3),\n",
    "    # tf.keras.layers.Dense(50, activation='relu'),\n",
    "\n",
    "    tf.keras.layers.Dense(3, activation='softmax')  \n",
    "])\n",
    "\n",
    "\n",
    "# Compilación del modelo\n",
    "model.compile(\n",
    "    optimizer='adam',\n",
    "    loss= tf.keras.losses.SparseCategoricalCrossentropy(),\n",
    "    metrics=['accuracy']\n",
    ")"
   ]
  },
  {
   "cell_type": "markdown",
   "id": "cc41a78a",
   "metadata": {},
   "source": [
    "Entrenamiento del modelo"
   ]
  },
  {
   "cell_type": "code",
   "execution_count": 37,
   "id": "0a9cca65",
   "metadata": {},
   "outputs": [
    {
     "name": "stdout",
     "output_type": "stream",
     "text": [
      "Found 1531 validated image filenames belonging to 3 classes.\n",
      "Entrenando el modelo con aumento de datos...\n",
      "Epoch 1/20\n"
     ]
    },
    {
     "name": "stderr",
     "output_type": "stream",
     "text": [
      "c:\\Users\\sebas\\Desktop\\Universidad\\Semestre 2025-25\\IA\\Proyecto 1\\Piedra-Papel-Tijera-IA\\venv\\Lib\\site-packages\\keras\\src\\trainers\\data_adapters\\py_dataset_adapter.py:121: UserWarning: Your `PyDataset` class should call `super().__init__(**kwargs)` in its constructor. `**kwargs` can include `workers`, `use_multiprocessing`, `max_queue_size`. Do not pass these arguments to `fit()`, as they will be ignored.\n",
      "  self._warn_if_super_not_called()\n"
     ]
    },
    {
     "name": "stdout",
     "output_type": "stream",
     "text": [
      "\u001b[1m47/47\u001b[0m \u001b[32m━━━━━━━━━━━━━━━━━━━━\u001b[0m\u001b[37m\u001b[0m \u001b[1m7s\u001b[0m 76ms/step - accuracy: 0.3884 - loss: 1.4036\n",
      "Epoch 2/20\n",
      "\u001b[1m47/47\u001b[0m \u001b[32m━━━━━━━━━━━━━━━━━━━━\u001b[0m\u001b[37m\u001b[0m \u001b[1m0s\u001b[0m 478us/step - accuracy: 0.5312 - loss: 1.0842\n",
      "Epoch 3/20\n",
      "\u001b[1m 1/47\u001b[0m \u001b[37m━━━━━━━━━━━━━━━━━━━━\u001b[0m \u001b[1m5s\u001b[0m 130ms/step - accuracy: 0.6562 - loss: 1.0328"
     ]
    },
    {
     "name": "stderr",
     "output_type": "stream",
     "text": [
      "c:\\Users\\sebas\\Desktop\\Universidad\\Semestre 2025-25\\IA\\Proyecto 1\\Piedra-Papel-Tijera-IA\\venv\\Lib\\site-packages\\keras\\src\\trainers\\epoch_iterator.py:107: UserWarning: Your input ran out of data; interrupting training. Make sure that your dataset or generator can generate at least `steps_per_epoch * epochs` batches. You may need to use the `.repeat()` function when building your dataset.\n",
      "  self._interrupted_warning()\n"
     ]
    },
    {
     "name": "stdout",
     "output_type": "stream",
     "text": [
      "\u001b[1m47/47\u001b[0m \u001b[32m━━━━━━━━━━━━━━━━━━━━\u001b[0m\u001b[37m\u001b[0m \u001b[1m4s\u001b[0m 80ms/step - accuracy: 0.6916 - loss: 0.9082\n",
      "Epoch 4/20\n",
      "\u001b[1m47/47\u001b[0m \u001b[32m━━━━━━━━━━━━━━━━━━━━\u001b[0m\u001b[37m\u001b[0m \u001b[1m0s\u001b[0m 652us/step - accuracy: 0.8750 - loss: 0.6238\n",
      "Epoch 5/20\n",
      "\u001b[1m47/47\u001b[0m \u001b[32m━━━━━━━━━━━━━━━━━━━━\u001b[0m\u001b[37m\u001b[0m \u001b[1m4s\u001b[0m 86ms/step - accuracy: 0.7897 - loss: 0.6735\n",
      "Epoch 6/20\n",
      "\u001b[1m47/47\u001b[0m \u001b[32m━━━━━━━━━━━━━━━━━━━━\u001b[0m\u001b[37m\u001b[0m \u001b[1m0s\u001b[0m 707us/step - accuracy: 0.8438 - loss: 0.5356\n",
      "Epoch 7/20\n",
      "\u001b[1m47/47\u001b[0m \u001b[32m━━━━━━━━━━━━━━━━━━━━\u001b[0m\u001b[37m\u001b[0m \u001b[1m4s\u001b[0m 83ms/step - accuracy: 0.8294 - loss: 0.5916\n",
      "Epoch 8/20\n",
      "\u001b[1m47/47\u001b[0m \u001b[32m━━━━━━━━━━━━━━━━━━━━\u001b[0m\u001b[37m\u001b[0m \u001b[1m0s\u001b[0m 543us/step - accuracy: 0.7188 - loss: 0.7046\n",
      "Epoch 9/20\n",
      "\u001b[1m47/47\u001b[0m \u001b[32m━━━━━━━━━━━━━━━━━━━━\u001b[0m\u001b[37m\u001b[0m \u001b[1m4s\u001b[0m 87ms/step - accuracy: 0.8214 - loss: 0.5838\n",
      "Epoch 10/20\n",
      "\u001b[1m47/47\u001b[0m \u001b[32m━━━━━━━━━━━━━━━━━━━━\u001b[0m\u001b[37m\u001b[0m \u001b[1m0s\u001b[0m 737us/step - accuracy: 0.8750 - loss: 0.4802\n",
      "Epoch 11/20\n",
      "\u001b[1m47/47\u001b[0m \u001b[32m━━━━━━━━━━━━━━━━━━━━\u001b[0m\u001b[37m\u001b[0m \u001b[1m4s\u001b[0m 78ms/step - accuracy: 0.8385 - loss: 0.5251\n",
      "Epoch 12/20\n",
      "\u001b[1m47/47\u001b[0m \u001b[32m━━━━━━━━━━━━━━━━━━━━\u001b[0m\u001b[37m\u001b[0m \u001b[1m0s\u001b[0m 634us/step - accuracy: 0.8438 - loss: 0.5661\n",
      "Epoch 13/20\n",
      "\u001b[1m47/47\u001b[0m \u001b[32m━━━━━━━━━━━━━━━━━━━━\u001b[0m\u001b[37m\u001b[0m \u001b[1m4s\u001b[0m 86ms/step - accuracy: 0.8594 - loss: 0.5005\n",
      "Epoch 14/20\n",
      "\u001b[1m47/47\u001b[0m \u001b[32m━━━━━━━━━━━━━━━━━━━━\u001b[0m\u001b[37m\u001b[0m \u001b[1m0s\u001b[0m 539us/step - accuracy: 0.9688 - loss: 0.3346\n",
      "Epoch 15/20\n",
      "\u001b[1m47/47\u001b[0m \u001b[32m━━━━━━━━━━━━━━━━━━━━\u001b[0m\u001b[37m\u001b[0m \u001b[1m4s\u001b[0m 75ms/step - accuracy: 0.8447 - loss: 0.4939\n",
      "Epoch 16/20\n",
      "\u001b[1m47/47\u001b[0m \u001b[32m━━━━━━━━━━━━━━━━━━━━\u001b[0m\u001b[37m\u001b[0m \u001b[1m0s\u001b[0m 521us/step - accuracy: 0.8438 - loss: 0.3754\n",
      "Epoch 17/20\n",
      "\u001b[1m47/47\u001b[0m \u001b[32m━━━━━━━━━━━━━━━━━━━━\u001b[0m\u001b[37m\u001b[0m \u001b[1m4s\u001b[0m 76ms/step - accuracy: 0.8532 - loss: 0.4796\n",
      "Epoch 18/20\n",
      "\u001b[1m47/47\u001b[0m \u001b[32m━━━━━━━━━━━━━━━━━━━━\u001b[0m\u001b[37m\u001b[0m \u001b[1m0s\u001b[0m 630us/step - accuracy: 0.7812 - loss: 0.6893\n",
      "Epoch 19/20\n",
      "\u001b[1m47/47\u001b[0m \u001b[32m━━━━━━━━━━━━━━━━━━━━\u001b[0m\u001b[37m\u001b[0m \u001b[1m4s\u001b[0m 83ms/step - accuracy: 0.8635 - loss: 0.4871\n",
      "Epoch 20/20\n",
      "\u001b[1m47/47\u001b[0m \u001b[32m━━━━━━━━━━━━━━━━━━━━\u001b[0m\u001b[37m\u001b[0m \u001b[1m0s\u001b[0m 575us/step - accuracy: 0.8125 - loss: 0.5269\n",
      "Modelo entrenado con éxito.\n"
     ]
    }
   ],
   "source": [
    "import tensorflow as tf\n",
    "import pandas as pd\n",
    "import numpy as np\n",
    "from tensorflow.keras.preprocessing.image import ImageDataGenerator\n",
    "\n",
    "# Crear un generador de datos con aumentos\n",
    "datagen = ImageDataGenerator(\n",
    "    rotation_range=30,         # Rotar las imágenes hasta 30 grados\n",
    "    width_shift_range=0.2,     # Desplazar horizontalmente hasta un 20%\n",
    "    height_shift_range=0.2,    # Desplazar verticalmente hasta un 20%\n",
    "    shear_range=0.2,           # Aplicar transformaciones de corte\n",
    "    zoom_range=0.2,            # Hacer zoom dentro de un rango del 20%\n",
    "    horizontal_flip=True,      # Voltear horizontalmente las imágenes\n",
    "    fill_mode='nearest',       # Cómo rellenar los píxeles vacíos tras las transformaciones\n",
    "    rescale=1.0/255.0          # Normalizar los valores de los píxeles entre 0 y 1\n",
    ")\n",
    "\n",
    "# Ruta al archivo CSV de entrenamiento\n",
    "train_csv_path = \"../data/training_labels.csv\"\n",
    "\n",
    "# Cargar el archivo CSV\n",
    "train_df = pd.read_csv(train_csv_path)\n",
    "\n",
    "# Convertir las etiquetas a cadenas\n",
    "train_df['label'] = train_df['label'].astype(str)\n",
    "\n",
    "# Dimensiones de las imágenes\n",
    "IMG_HEIGHT = 20\n",
    "IMG_WIDTH = 30\n",
    "\n",
    "# Crear un generador a partir del DataFrame\n",
    "train_generator = datagen.flow_from_dataframe(\n",
    "    dataframe=train_df,\n",
    "    directory=\"../data/\",  # Las rutas en el CSV ya son completas\n",
    "    x_col=\"path\",    # Columna con las rutas de las imágenes\n",
    "    y_col=\"label\",   # Columna con las etiquetas\n",
    "    target_size=(IMG_HEIGHT, IMG_WIDTH),  # Redimensionar las imágenes\n",
    "    color_mode=\"grayscale\",               # Convertir las imágenes a escala de grises\n",
    "    class_mode=\"sparse\",                  # Etiquetas en formato entero\n",
    "    batch_size=32,                        # Tamaño del lote\n",
    "    shuffle=True                          # Barajar las imágenes\n",
    ")\n",
    "\n",
    "# Entrenar el modelo usando el generador\n",
    "EPOCHS = 20\n",
    "\n",
    "print(\"Entrenando el modelo con aumento de datos...\")\n",
    "\n",
    "history = model.fit(\n",
    "    train_generator,\n",
    "    steps_per_epoch=train_generator.samples // train_generator.batch_size,\n",
    "    epochs=EPOCHS\n",
    ")\n",
    "\n",
    "print(\"Modelo entrenado con éxito.\")"
   ]
  },
  {
   "cell_type": "code",
   "execution_count": 38,
   "id": "5fae5dec",
   "metadata": {},
   "outputs": [
    {
     "data": {
      "image/png": "[encoded data removed]",
      "text/plain": [
       "<Figure size 1200x500 with 2 Axes>"
      ]
     },
     "metadata": {},
     "output_type": "display_data"
    }
   ],
   "source": [
    "import matplotlib.pyplot as plt\n",
    "\n",
    "# Graficar la precisión del modelo\n",
    "plt.figure(figsize=(12, 5))\n",
    "\n",
    "# Precisión\n",
    "plt.subplot(1, 2, 1)\n",
    "plt.plot(history.history['accuracy'], label='Precisión de entrenamiento')\n",
    "if 'val_accuracy' in history.history:\n",
    "    plt.plot(history.history['val_accuracy'], label='Precisión de validación')\n",
    "plt.title('Precisión del modelo')\n",
    "plt.xlabel('Épocas')\n",
    "plt.ylabel('Precisión')\n",
    "plt.legend()\n",
    "\n",
    "# Pérdida\n",
    "plt.subplot(1, 2, 2)\n",
    "plt.plot(history.history['loss'], label='Pérdida de entrenamiento')\n",
    "if 'val_loss' in history.history:\n",
    "    plt.plot(history.history['val_loss'], label='Pérdida de validación')\n",
    "plt.title('Pérdida del modelo')\n",
    "plt.xlabel('Épocas')\n",
    "plt.ylabel('Pérdida')\n",
    "plt.legend()\n",
    "\n",
    "# Mostrar las gráficas\n",
    "plt.tight_layout()\n",
    "plt.show()"
   ]
  },
  {
   "cell_type": "markdown",
   "id": "8412ee90",
   "metadata": {},
   "source": [
    "Prueba de testeo"
   ]
  },
  {
   "cell_type": "code",
   "execution_count": 39,
   "id": "64f760e6",
   "metadata": {},
   "outputs": [
    {
     "name": "stdout",
     "output_type": "stream",
     "text": [
      "\u001b[1m21/21\u001b[0m \u001b[32m━━━━━━━━━━━━━━━━━━━━\u001b[0m\u001b[37m\u001b[0m \u001b[1m1s\u001b[0m 18ms/step - accuracy: 0.9269 - loss: 35.6956\n",
      "Pérdida en el conjunto de test: 36.1701\n",
      "Precisión en el conjunto de test: 0.9239\n"
     ]
    }
   ],
   "source": [
    "import tensorflow as tf\n",
    "import pandas as pd\n",
    "import numpy as np\n",
    "from tensorflow.keras.preprocessing.image import load_img, img_to_array\n",
    "\n",
    "# Ruta al archivo CSV de test\n",
    "test_csv_path = \"../data/test_labels.csv\"\n",
    "\n",
    "# Cargar el archivo CSV\n",
    "test_df = pd.read_csv(test_csv_path)\n",
    "\n",
    "# Dimensiones de las imágenes\n",
    "IMG_HEIGHT = 20\n",
    "IMG_WIDTH = 30\n",
    "\n",
    "# Cargar imágenes y etiquetas desde el CSV\n",
    "X_test = np.array([\n",
    "    img_to_array(load_img(row.path, target_size=(IMG_HEIGHT, IMG_WIDTH), color_mode=\"grayscale\"))\n",
    "    for row in test_df.itertuples()\n",
    "])\n",
    "y_test = test_df['label'].values  # Etiquetas\n",
    "\n",
    "# Evaluar el modelo\n",
    "test_loss, test_accuracy = model.evaluate(X_test, y_test, verbose=1)\n",
    "\n",
    "print(f\"Pérdida en el conjunto de test: {test_loss:.4f}\")\n",
    "print(f\"Precisión en el conjunto de test: {test_accuracy:.4f}\")"
   ]
  },
  {
   "cell_type": "markdown",
   "id": "0fdee26a",
   "metadata": {},
   "source": []
  }
 ],
 "metadata": {
  "kernelspec": {
   "display_name": "venv",
   "language": "python",
   "name": "python3"
  },
  "language_info": {
   "codemirror_mode": {
    "name": "ipython",
    "version": 3
   },
   "file_extension": ".py",
   "mimetype": "text/x-python",
   "name": "python",
   "nbconvert_exporter": "python",
   "pygments_lexer": "ipython3",
   "version": "3.12.8"
  }
 },
 "nbformat": 4,
 "nbformat_minor": 5
}
